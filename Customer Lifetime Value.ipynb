{
 "cells": [
  {
   "cell_type": "code",
   "execution_count": 142,
   "metadata": {},
   "outputs": [
    {
     "name": "stdout",
     "output_type": "stream",
     "text": [
      "Customer Lifetime Value.ipynb  LICENSE\r\n",
      "HW1 clv_transactions.csv       README.md\r\n"
     ]
    }
   ],
   "source": [
    "ls"
   ]
  },
  {
   "cell_type": "code",
   "execution_count": 143,
   "metadata": {},
   "outputs": [],
   "source": [
    "#imports\n",
    "import pandas as pd\n",
    "import numpy as np\n",
    "import matplotlib.pyplot as plt\n",
    "import seaborn as sns\n",
    "import plotly.express as px"
   ]
  },
  {
   "cell_type": "markdown",
   "metadata": {},
   "source": [
    "## Background: Customer Lifetime Value\n",
    "In marketing, customer lifetime value (CLV or often CLTV), lifetime customer value (LCV), or life-time value (LTV) is a prediction of the net profit attributed to the entire future relationship with a customer. Customer lifetime value can also be defined as the dollar value of a customer relationship, based on the present value of the projected future cash flows from the customer relationship. Customer lifetime value is an important concept in that it encourages firms to shift their focus from quarterly profits to the long-term health of their customer relationships. Customer lifetime value is an important number because it represents an upper limit on spending to acquire new customers. For this reason it is an important element in calculating payback of advertising spent in marketing mix modeling."
   ]
  },
  {
   "cell_type": "code",
   "execution_count": 144,
   "metadata": {},
   "outputs": [],
   "source": [
    "df = pd.read_csv(\"HW1 clv_transactions.csv\", date_parser=True)"
   ]
  },
  {
   "cell_type": "code",
   "execution_count": 145,
   "metadata": {},
   "outputs": [
    {
     "data": {
      "text/html": [
       "<div>\n",
       "<style scoped>\n",
       "    .dataframe tbody tr th:only-of-type {\n",
       "        vertical-align: middle;\n",
       "    }\n",
       "\n",
       "    .dataframe tbody tr th {\n",
       "        vertical-align: top;\n",
       "    }\n",
       "\n",
       "    .dataframe thead th {\n",
       "        text-align: right;\n",
       "    }\n",
       "</style>\n",
       "<table border=\"1\" class=\"dataframe\">\n",
       "  <thead>\n",
       "    <tr style=\"text-align: right;\">\n",
       "      <th></th>\n",
       "      <th>TransactionID</th>\n",
       "      <th>TransactionDate</th>\n",
       "      <th>CustomerID</th>\n",
       "      <th>Amount</th>\n",
       "    </tr>\n",
       "  </thead>\n",
       "  <tbody>\n",
       "    <tr>\n",
       "      <th>0</th>\n",
       "      <td>1</td>\n",
       "      <td>9/4/2012</td>\n",
       "      <td>1</td>\n",
       "      <td>20.26</td>\n",
       "    </tr>\n",
       "    <tr>\n",
       "      <th>1</th>\n",
       "      <td>2</td>\n",
       "      <td>5/15/2012</td>\n",
       "      <td>2</td>\n",
       "      <td>10.87</td>\n",
       "    </tr>\n",
       "    <tr>\n",
       "      <th>2</th>\n",
       "      <td>3</td>\n",
       "      <td>5/23/2014</td>\n",
       "      <td>2</td>\n",
       "      <td>2.21</td>\n",
       "    </tr>\n",
       "    <tr>\n",
       "      <th>3</th>\n",
       "      <td>4</td>\n",
       "      <td>10/24/2014</td>\n",
       "      <td>2</td>\n",
       "      <td>10.48</td>\n",
       "    </tr>\n",
       "    <tr>\n",
       "      <th>4</th>\n",
       "      <td>5</td>\n",
       "      <td>10/13/2012</td>\n",
       "      <td>2</td>\n",
       "      <td>3.94</td>\n",
       "    </tr>\n",
       "  </tbody>\n",
       "</table>\n",
       "</div>"
      ],
      "text/plain": [
       "   TransactionID TransactionDate  CustomerID  Amount\n",
       "0              1        9/4/2012           1   20.26\n",
       "1              2       5/15/2012           2   10.87\n",
       "2              3       5/23/2014           2    2.21\n",
       "3              4      10/24/2014           2   10.48\n",
       "4              5      10/13/2012           2    3.94"
      ]
     },
     "execution_count": 145,
     "metadata": {},
     "output_type": "execute_result"
    }
   ],
   "source": [
    "df.head()"
   ]
  },
  {
   "cell_type": "markdown",
   "metadata": {},
   "source": [
    "## Step 1 - About the Dataset\n",
    "The dataset available is in CSV format and contains 4,200 transactions records. Each row in the dataset represent a single transaction. There are four columns in the dataset. \n",
    "- The TransactionID is a unique identifier of individual transactions. \n",
    "- The TransactionDate is the date of the transaction. \n",
    "- The CustomerID is the identifier of the customer who made the transaction. \n",
    "- And the Amount is the recorded amount of transaction in US dollars.\n"
   ]
  },
  {
   "cell_type": "code",
   "execution_count": 146,
   "metadata": {},
   "outputs": [
    {
     "data": {
      "text/plain": [
       "TransactionID      0\n",
       "TransactionDate    0\n",
       "CustomerID         0\n",
       "Amount             0\n",
       "dtype: int64"
      ]
     },
     "execution_count": 146,
     "metadata": {},
     "output_type": "execute_result"
    }
   ],
   "source": [
    "df.isna().sum() # 1. There are no missing values in the dataset"
   ]
  },
  {
   "cell_type": "code",
   "execution_count": 147,
   "metadata": {},
   "outputs": [
    {
     "name": "stdout",
     "output_type": "stream",
     "text": [
      "Min. Transaction Date: 1/1/2011\n",
      "Max. Transaction Date: 9/9/2015\n"
     ]
    }
   ],
   "source": [
    "print(\"Min. Transaction Date: {}\".format(df.TransactionDate.min())) # 2. Min Transaction Date\n",
    "print(\"Max. Transaction Date: {}\".format(df.TransactionDate.max())) # 2. Max Transaction Date"
   ]
  },
  {
   "cell_type": "code",
   "execution_count": 148,
   "metadata": {},
   "outputs": [
    {
     "name": "stdout",
     "output_type": "stream",
     "text": [
      "Count of unique customers: 1000\n"
     ]
    }
   ],
   "source": [
    "print(\"Count of unique customers: {}\".format(len(set(df.CustomerID)))) # 3. Count of unique customers"
   ]
  },
  {
   "cell_type": "code",
   "execution_count": 149,
   "metadata": {},
   "outputs": [
    {
     "name": "stdout",
     "output_type": "stream",
     "text": [
      "*Descriptive Stats*:\n",
      "Min: -1.0, Max: 2033.0, Var: 1499.54, Std: 38.72\n"
     ]
    }
   ],
   "source": [
    "print(\"*Descriptive Stats*:\\nMin: {}, Max: {}, Var: {:.2f}, Std: {:.2f}\".format(df.Amount.min(),df.Amount.max(), df.Amount.var(), df.Amount.std()))\n"
   ]
  },
  {
   "cell_type": "code",
   "execution_count": 150,
   "metadata": {},
   "outputs": [
    {
     "data": {
      "text/html": [
       "<div>\n",
       "<style scoped>\n",
       "    .dataframe tbody tr th:only-of-type {\n",
       "        vertical-align: middle;\n",
       "    }\n",
       "\n",
       "    .dataframe tbody tr th {\n",
       "        vertical-align: top;\n",
       "    }\n",
       "\n",
       "    .dataframe thead th {\n",
       "        text-align: right;\n",
       "    }\n",
       "</style>\n",
       "<table border=\"1\" class=\"dataframe\">\n",
       "  <thead>\n",
       "    <tr style=\"text-align: right;\">\n",
       "      <th></th>\n",
       "      <th>TransactionID</th>\n",
       "      <th>TransactionDate</th>\n",
       "      <th>CustomerID</th>\n",
       "      <th>Amount</th>\n",
       "    </tr>\n",
       "  </thead>\n",
       "  <tbody>\n",
       "    <tr>\n",
       "      <th>0</th>\n",
       "      <td>1</td>\n",
       "      <td>9/4/2012</td>\n",
       "      <td>1</td>\n",
       "      <td>20.26</td>\n",
       "    </tr>\n",
       "    <tr>\n",
       "      <th>1</th>\n",
       "      <td>2</td>\n",
       "      <td>5/15/2012</td>\n",
       "      <td>2</td>\n",
       "      <td>10.87</td>\n",
       "    </tr>\n",
       "    <tr>\n",
       "      <th>2</th>\n",
       "      <td>3</td>\n",
       "      <td>5/23/2014</td>\n",
       "      <td>2</td>\n",
       "      <td>2.21</td>\n",
       "    </tr>\n",
       "    <tr>\n",
       "      <th>3</th>\n",
       "      <td>4</td>\n",
       "      <td>10/24/2014</td>\n",
       "      <td>2</td>\n",
       "      <td>10.48</td>\n",
       "    </tr>\n",
       "    <tr>\n",
       "      <th>4</th>\n",
       "      <td>5</td>\n",
       "      <td>10/13/2012</td>\n",
       "      <td>2</td>\n",
       "      <td>3.94</td>\n",
       "    </tr>\n",
       "  </tbody>\n",
       "</table>\n",
       "</div>"
      ],
      "text/plain": [
       "   TransactionID TransactionDate  CustomerID  Amount\n",
       "0              1        9/4/2012           1   20.26\n",
       "1              2       5/15/2012           2   10.87\n",
       "2              3       5/23/2014           2    2.21\n",
       "3              4      10/24/2014           2   10.48\n",
       "4              5      10/13/2012           2    3.94"
      ]
     },
     "execution_count": 150,
     "metadata": {},
     "output_type": "execute_result"
    }
   ],
   "source": [
    "df.head()"
   ]
  },
  {
   "cell_type": "code",
   "execution_count": 151,
   "metadata": {},
   "outputs": [],
   "source": [
    "from datetime import datetime"
   ]
  },
  {
   "cell_type": "code",
   "execution_count": 152,
   "metadata": {},
   "outputs": [],
   "source": [
    "df[\"Trx_Year\"] = df.TransactionDate.apply(lambda x:datetime.strptime(x, '%m/%d/%Y').year)"
   ]
  },
  {
   "cell_type": "code",
   "execution_count": 153,
   "metadata": {},
   "outputs": [
    {
     "data": {
      "text/plain": [
       "Text(0.5, 1.0, 'Transactions over time')"
      ]
     },
     "execution_count": 153,
     "metadata": {},
     "output_type": "execute_result"
    },
    {
     "data": {
      "image/png": "[encoded data removed]",
      "text/plain": [
       "<Figure size 432x288 with 1 Axes>"
      ]
     },
     "metadata": {
      "needs_background": "light"
     },
     "output_type": "display_data"
    }
   ],
   "source": [
    "plt.scatter(x='Trx_Year', y='Amount', data=df)\n",
    "plt.xlabel(\"Transaction Year\")\n",
    "plt.ylabel(\"Transaction Amount ($)\")\n",
    "plt.title(\"Transactions over time\")"
   ]
  },
  {
   "cell_type": "code",
   "execution_count": 154,
   "metadata": {},
   "outputs": [
    {
     "data": {
      "text/html": [
       "<div>\n",
       "<style scoped>\n",
       "    .dataframe tbody tr th:only-of-type {\n",
       "        vertical-align: middle;\n",
       "    }\n",
       "\n",
       "    .dataframe tbody tr th {\n",
       "        vertical-align: top;\n",
       "    }\n",
       "\n",
       "    .dataframe thead th {\n",
       "        text-align: right;\n",
       "    }\n",
       "</style>\n",
       "<table border=\"1\" class=\"dataframe\">\n",
       "  <thead>\n",
       "    <tr style=\"text-align: right;\">\n",
       "      <th></th>\n",
       "      <th>Trx_Year</th>\n",
       "      <th>Amount</th>\n",
       "    </tr>\n",
       "  </thead>\n",
       "  <tbody>\n",
       "    <tr>\n",
       "      <th>0</th>\n",
       "      <td>2010</td>\n",
       "      <td>2259.67</td>\n",
       "    </tr>\n",
       "    <tr>\n",
       "      <th>1</th>\n",
       "      <td>2011</td>\n",
       "      <td>4596.57</td>\n",
       "    </tr>\n",
       "    <tr>\n",
       "      <th>2</th>\n",
       "      <td>2012</td>\n",
       "      <td>7392.82</td>\n",
       "    </tr>\n",
       "    <tr>\n",
       "      <th>3</th>\n",
       "      <td>2013</td>\n",
       "      <td>6938.84</td>\n",
       "    </tr>\n",
       "    <tr>\n",
       "      <th>4</th>\n",
       "      <td>2014</td>\n",
       "      <td>8174.42</td>\n",
       "    </tr>\n",
       "    <tr>\n",
       "      <th>5</th>\n",
       "      <td>2015</td>\n",
       "      <td>8429.23</td>\n",
       "    </tr>\n",
       "  </tbody>\n",
       "</table>\n",
       "</div>"
      ],
      "text/plain": [
       "   Trx_Year   Amount\n",
       "0      2010  2259.67\n",
       "1      2011  4596.57\n",
       "2      2012  7392.82\n",
       "3      2013  6938.84\n",
       "4      2014  8174.42\n",
       "5      2015  8429.23"
      ]
     },
     "execution_count": 154,
     "metadata": {},
     "output_type": "execute_result"
    }
   ],
   "source": [
    "df.groupby(\"Trx_Year\")[[\"Amount\"]].sum().reset_index() # Extracting year  "
   ]
  },
  {
   "cell_type": "code",
   "execution_count": 155,
   "metadata": {},
   "outputs": [],
   "source": [
    "x = df.groupby(\"Trx_Year\")[[\"Amount\"]].sum()"
   ]
  },
  {
   "cell_type": "code",
   "execution_count": 156,
   "metadata": {},
   "outputs": [
    {
     "data": {
      "text/plain": [
       "Text(0.5, 1.0, 'Transactions over time')"
      ]
     },
     "execution_count": 156,
     "metadata": {},
     "output_type": "execute_result"
    },
    {
     "data": {
      "image/png": "[encoded data removed]",
      "text/plain": [
       "<Figure size 432x288 with 1 Axes>"
      ]
     },
     "metadata": {
      "needs_background": "light"
     },
     "output_type": "display_data"
    }
   ],
   "source": [
    "x.plot()\n",
    "plt.xlabel(\"Transaction Year\")\n",
    "plt.ylabel(\"Total Transaction Amount ($)\")\n",
    "plt.title(\"Transactions over time\")"
   ]
  },
  {
   "cell_type": "markdown",
   "metadata": {},
   "source": [
    "Other that 2013, there has been a general increase in transaction amount over the years"
   ]
  },
  {
   "cell_type": "markdown",
   "metadata": {},
   "source": [
    "## Step 2 - Further exploring the data"
   ]
  },
  {
   "cell_type": "code",
   "execution_count": 157,
   "metadata": {},
   "outputs": [
    {
     "data": {
      "image/png": "[encoded data removed]",
      "text/plain": [
       "<Figure size 432x288 with 1 Axes>"
      ]
     },
     "metadata": {
      "needs_background": "light"
     },
     "output_type": "display_data"
    }
   ],
   "source": [
    "# 1. Are there any outliers? \n",
    "plt.boxplot(df['Amount'])\n",
    "plt.grid()\n",
    "plt.title(\"Boxplot of Transaction Amount\")\n",
    "plt.show()"
   ]
  },
  {
   "cell_type": "markdown",
   "metadata": {},
   "source": [
    "Yes, there are a few outliers in the dataset"
   ]
  },
  {
   "cell_type": "code",
   "execution_count": 158,
   "metadata": {},
   "outputs": [
    {
     "data": {
      "text/plain": [
       "count    4186.000000\n",
       "mean        9.028082\n",
       "std        38.723909\n",
       "min        -1.000000\n",
       "25%         3.310000\n",
       "50%         6.885000\n",
       "75%        11.690000\n",
       "max      2033.000000\n",
       "Name: Amount, dtype: float64"
      ]
     },
     "execution_count": 158,
     "metadata": {},
     "output_type": "execute_result"
    }
   ],
   "source": [
    "df.Amount.describe()"
   ]
  },
  {
   "cell_type": "code",
   "execution_count": 159,
   "metadata": {},
   "outputs": [
    {
     "data": {
      "text/plain": [
       "Text(0.5, 1.0, 'Histogram of Transaction Amount')"
      ]
     },
     "execution_count": 159,
     "metadata": {},
     "output_type": "execute_result"
    },
    {
     "data": {
      "image/png": "[encoded data removed]",
      "text/plain": [
       "<Figure size 432x288 with 1 Axes>"
      ]
     },
     "metadata": {
      "needs_background": "light"
     },
     "output_type": "display_data"
    }
   ],
   "source": [
    "plt.hist(x='Amount', data=df, bins =50)\n",
    "plt.xlabel(\"Transaction Amount\")\n",
    "plt.ylabel(\"Frequency\")\n",
    "plt.title(\"Histogram of Transaction Amount\")"
   ]
  },
  {
   "cell_type": "markdown",
   "metadata": {},
   "source": [
    "Becuase of the extremely low frequency of the outliers, they are not visible"
   ]
  },
  {
   "cell_type": "markdown",
   "metadata": {},
   "source": [
    "Amounts that are 3 SDs away from the mean can be treated as outlier and negative values can be treated as anomalies. For the purpose of elimination, lets group them together as 'Outlier'"
   ]
  },
  {
   "cell_type": "code",
   "execution_count": 160,
   "metadata": {},
   "outputs": [
    {
     "name": "stdout",
     "output_type": "stream",
     "text": [
      "Transaction Outliers:\n"
     ]
    },
    {
     "data": {
      "text/html": [
       "<div>\n",
       "<style scoped>\n",
       "    .dataframe tbody tr th:only-of-type {\n",
       "        vertical-align: middle;\n",
       "    }\n",
       "\n",
       "    .dataframe tbody tr th {\n",
       "        vertical-align: top;\n",
       "    }\n",
       "\n",
       "    .dataframe thead th {\n",
       "        text-align: right;\n",
       "    }\n",
       "</style>\n",
       "<table border=\"1\" class=\"dataframe\">\n",
       "  <thead>\n",
       "    <tr style=\"text-align: right;\">\n",
       "      <th></th>\n",
       "      <th>TransactionID</th>\n",
       "      <th>TransactionDate</th>\n",
       "      <th>CustomerID</th>\n",
       "      <th>Amount</th>\n",
       "      <th>Trx_Year</th>\n",
       "      <th>Outlier</th>\n",
       "    </tr>\n",
       "  </thead>\n",
       "  <tbody>\n",
       "    <tr>\n",
       "      <th>23</th>\n",
       "      <td>24</td>\n",
       "      <td>10/7/2011</td>\n",
       "      <td>7</td>\n",
       "      <td>1003.0</td>\n",
       "      <td>2011</td>\n",
       "      <td>True</td>\n",
       "    </tr>\n",
       "    <tr>\n",
       "      <th>49</th>\n",
       "      <td>50</td>\n",
       "      <td>5/12/2012</td>\n",
       "      <td>13</td>\n",
       "      <td>-1.0</td>\n",
       "      <td>2012</td>\n",
       "      <td>True</td>\n",
       "    </tr>\n",
       "    <tr>\n",
       "      <th>211</th>\n",
       "      <td>212</td>\n",
       "      <td>5/14/2014</td>\n",
       "      <td>54</td>\n",
       "      <td>1027.0</td>\n",
       "      <td>2014</td>\n",
       "      <td>True</td>\n",
       "    </tr>\n",
       "    <tr>\n",
       "      <th>3326</th>\n",
       "      <td>3327</td>\n",
       "      <td>1/16/2014</td>\n",
       "      <td>811</td>\n",
       "      <td>-1.0</td>\n",
       "      <td>2014</td>\n",
       "      <td>True</td>\n",
       "    </tr>\n",
       "    <tr>\n",
       "      <th>4177</th>\n",
       "      <td>4178</td>\n",
       "      <td>8/13/2012</td>\n",
       "      <td>1000</td>\n",
       "      <td>2033.0</td>\n",
       "      <td>2012</td>\n",
       "      <td>True</td>\n",
       "    </tr>\n",
       "  </tbody>\n",
       "</table>\n",
       "</div>"
      ],
      "text/plain": [
       "      TransactionID TransactionDate  CustomerID  Amount  Trx_Year  Outlier\n",
       "23               24       10/7/2011           7  1003.0      2011     True\n",
       "49               50       5/12/2012          13    -1.0      2012     True\n",
       "211             212       5/14/2014          54  1027.0      2014     True\n",
       "3326           3327       1/16/2014         811    -1.0      2014     True\n",
       "4177           4178       8/13/2012        1000  2033.0      2012     True"
      ]
     },
     "execution_count": 160,
     "metadata": {},
     "output_type": "execute_result"
    }
   ],
   "source": [
    "#Labeling the outliers\n",
    "\n",
    "df['Outlier'] = np.logical_or(np.logical_or( (df['Amount'] <= (df['Amount'].mean() - (df['Amount'].std() * 3))), # 3SDs less\n",
    "                              (df['Amount'] >= (df['Amount'].mean() + (df['Amount'].std() * 3)))  ), # 3SDs more\n",
    "                              df['Amount']<0) # negative\n",
    "\n",
    "#There are 5 outliers in the dataset\n",
    "print(\"Transaction Outliers:\")\n",
    "df[df[\"Outlier\"]==True]"
   ]
  },
  {
   "cell_type": "code",
   "execution_count": 139,
   "metadata": {},
   "outputs": [],
   "source": [
    "# 2. If so how would you treat them?"
   ]
  },
  {
   "cell_type": "code",
   "execution_count": 168,
   "metadata": {},
   "outputs": [
    {
     "data": {
      "image/png": "[encoded data removed]",
      "text/plain": [
       "<Figure size 432x288 with 1 Axes>"
      ]
     },
     "metadata": {
      "needs_background": "light"
     },
     "output_type": "display_data"
    }
   ],
   "source": [
    "# We will filter out all the outliers\n",
    "df = df[df['Outlier'] == False]\n",
    "\n",
    "# New Boxplot\n",
    "plt.title(\"Boxplot of Amount after getting rid of Outliers ( >3 sd away from mean)\")\n",
    "plt.boxplot(df['Amount'])\n",
    "plt.grid()\n",
    "plt.show()"
   ]
  },
  {
   "cell_type": "markdown",
   "metadata": {},
   "source": [
    "## Step 3 - Determining when the customers were first acquired"
   ]
  },
  {
   "cell_type": "code",
   "execution_count": 174,
   "metadata": {},
   "outputs": [],
   "source": [
    "# Similar to a partition by function in SQL -- gets the minimum Trx_Year for each CustomerID\n",
    "df[\"Origin Year\"] = df.groupby('CustomerID').Trx_Year.transform(np.min) "
   ]
  },
  {
   "cell_type": "markdown",
   "metadata": {},
   "source": [
    "Displaying the origin year for a random customer"
   ]
  },
  {
   "cell_type": "code",
   "execution_count": 199,
   "metadata": {},
   "outputs": [
    {
     "data": {
      "text/html": [
       "<div>\n",
       "<style scoped>\n",
       "    .dataframe tbody tr th:only-of-type {\n",
       "        vertical-align: middle;\n",
       "    }\n",
       "\n",
       "    .dataframe tbody tr th {\n",
       "        vertical-align: top;\n",
       "    }\n",
       "\n",
       "    .dataframe thead th {\n",
       "        text-align: right;\n",
       "    }\n",
       "</style>\n",
       "<table border=\"1\" class=\"dataframe\">\n",
       "  <thead>\n",
       "    <tr style=\"text-align: right;\">\n",
       "      <th></th>\n",
       "      <th>TransactionID</th>\n",
       "      <th>TransactionDate</th>\n",
       "      <th>CustomerID</th>\n",
       "      <th>Amount</th>\n",
       "      <th>Trx_Year</th>\n",
       "      <th>Outlier</th>\n",
       "      <th>Origin Year</th>\n",
       "    </tr>\n",
       "  </thead>\n",
       "  <tbody>\n",
       "    <tr>\n",
       "      <th>323</th>\n",
       "      <td>324</td>\n",
       "      <td>7/19/2012</td>\n",
       "      <td>83</td>\n",
       "      <td>10.43</td>\n",
       "      <td>2012</td>\n",
       "      <td>False</td>\n",
       "      <td>2012</td>\n",
       "    </tr>\n",
       "    <tr>\n",
       "      <th>324</th>\n",
       "      <td>325</td>\n",
       "      <td>11/22/2015</td>\n",
       "      <td>83</td>\n",
       "      <td>0.71</td>\n",
       "      <td>2015</td>\n",
       "      <td>False</td>\n",
       "      <td>2012</td>\n",
       "    </tr>\n",
       "    <tr>\n",
       "      <th>325</th>\n",
       "      <td>326</td>\n",
       "      <td>2/28/2014</td>\n",
       "      <td>83</td>\n",
       "      <td>2.79</td>\n",
       "      <td>2014</td>\n",
       "      <td>False</td>\n",
       "      <td>2012</td>\n",
       "    </tr>\n",
       "    <tr>\n",
       "      <th>326</th>\n",
       "      <td>327</td>\n",
       "      <td>9/21/2012</td>\n",
       "      <td>83</td>\n",
       "      <td>14.85</td>\n",
       "      <td>2012</td>\n",
       "      <td>False</td>\n",
       "      <td>2012</td>\n",
       "    </tr>\n",
       "    <tr>\n",
       "      <th>327</th>\n",
       "      <td>328</td>\n",
       "      <td>5/27/2014</td>\n",
       "      <td>83</td>\n",
       "      <td>14.05</td>\n",
       "      <td>2014</td>\n",
       "      <td>False</td>\n",
       "      <td>2012</td>\n",
       "    </tr>\n",
       "    <tr>\n",
       "      <th>328</th>\n",
       "      <td>329</td>\n",
       "      <td>12/2/2015</td>\n",
       "      <td>83</td>\n",
       "      <td>3.65</td>\n",
       "      <td>2015</td>\n",
       "      <td>False</td>\n",
       "      <td>2012</td>\n",
       "    </tr>\n",
       "  </tbody>\n",
       "</table>\n",
       "</div>"
      ],
      "text/plain": [
       "     TransactionID TransactionDate  CustomerID  Amount  Trx_Year  Outlier  \\\n",
       "323            324       7/19/2012          83   10.43      2012    False   \n",
       "324            325      11/22/2015          83    0.71      2015    False   \n",
       "325            326       2/28/2014          83    2.79      2014    False   \n",
       "326            327       9/21/2012          83   14.85      2012    False   \n",
       "327            328       5/27/2014          83   14.05      2014    False   \n",
       "328            329       12/2/2015          83    3.65      2015    False   \n",
       "\n",
       "     Origin Year  \n",
       "323         2012  \n",
       "324         2012  \n",
       "325         2012  \n",
       "326         2012  \n",
       "327         2012  \n",
       "328         2012  "
      ]
     },
     "execution_count": 199,
     "metadata": {},
     "output_type": "execute_result"
    }
   ],
   "source": [
    "df.loc[df[\"CustomerID\"]==np.random.randint(100)]"
   ]
  },
  {
   "cell_type": "markdown",
   "metadata": {},
   "source": [
    "## Step 4 - Calculating cumulative transaction amounts"
   ]
  },
  {
   "cell_type": "code",
   "execution_count": 240,
   "metadata": {},
   "outputs": [
    {
     "data": {
      "text/html": [
       "<div>\n",
       "<style scoped>\n",
       "    .dataframe tbody tr th:only-of-type {\n",
       "        vertical-align: middle;\n",
       "    }\n",
       "\n",
       "    .dataframe tbody tr th {\n",
       "        vertical-align: top;\n",
       "    }\n",
       "\n",
       "    .dataframe thead th {\n",
       "        text-align: right;\n",
       "    }\n",
       "</style>\n",
       "<table border=\"1\" class=\"dataframe\">\n",
       "  <thead>\n",
       "    <tr style=\"text-align: right;\">\n",
       "      <th></th>\n",
       "      <th>Origin Year</th>\n",
       "      <th>12</th>\n",
       "      <th>24</th>\n",
       "      <th>36</th>\n",
       "      <th>48</th>\n",
       "      <th>60</th>\n",
       "      <th>72</th>\n",
       "    </tr>\n",
       "  </thead>\n",
       "  <tbody>\n",
       "    <tr>\n",
       "      <th>0</th>\n",
       "      <td>2010-01-01 - 2010-12-31</td>\n",
       "      <td>2259.67</td>\n",
       "      <td>3614.78</td>\n",
       "      <td>5274.81</td>\n",
       "      <td>6632.37</td>\n",
       "      <td>7930.69</td>\n",
       "      <td>8964.49</td>\n",
       "    </tr>\n",
       "    <tr>\n",
       "      <th>1</th>\n",
       "      <td>2011-01-01 - 2011-12-31</td>\n",
       "      <td>2238.46</td>\n",
       "      <td>3757.9</td>\n",
       "      <td>5465.99</td>\n",
       "      <td>6703.11</td>\n",
       "      <td>7862.24</td>\n",
       "      <td></td>\n",
       "    </tr>\n",
       "    <tr>\n",
       "      <th>2</th>\n",
       "      <td>2012-01-01 - 2012-12-31</td>\n",
       "      <td>2181.35</td>\n",
       "      <td>3874.69</td>\n",
       "      <td>5226.86</td>\n",
       "      <td>6501.85</td>\n",
       "      <td></td>\n",
       "      <td></td>\n",
       "    </tr>\n",
       "    <tr>\n",
       "      <th>3</th>\n",
       "      <td>2013-01-01 - 2013-12-31</td>\n",
       "      <td>2179.85</td>\n",
       "      <td>3609.81</td>\n",
       "      <td>5227.75</td>\n",
       "      <td></td>\n",
       "      <td></td>\n",
       "      <td></td>\n",
       "    </tr>\n",
       "    <tr>\n",
       "      <th>4</th>\n",
       "      <td>2014-01-01 - 2014-12-31</td>\n",
       "      <td>1830.85</td>\n",
       "      <td>3262.05</td>\n",
       "      <td></td>\n",
       "      <td></td>\n",
       "      <td></td>\n",
       "      <td></td>\n",
       "    </tr>\n",
       "    <tr>\n",
       "      <th>5</th>\n",
       "      <td>2015-01-01 - 2015-12-31</td>\n",
       "      <td>1912.17</td>\n",
       "      <td></td>\n",
       "      <td></td>\n",
       "      <td></td>\n",
       "      <td></td>\n",
       "      <td></td>\n",
       "    </tr>\n",
       "  </tbody>\n",
       "</table>\n",
       "</div>"
      ],
      "text/plain": [
       "               Origin Year       12       24       36       48       60  \\\n",
       "0  2010-01-01 - 2010-12-31  2259.67  3614.78  5274.81  6632.37  7930.69   \n",
       "1  2011-01-01 - 2011-12-31  2238.46   3757.9  5465.99  6703.11  7862.24   \n",
       "2  2012-01-01 - 2012-12-31  2181.35  3874.69  5226.86  6501.85            \n",
       "3  2013-01-01 - 2013-12-31  2179.85  3609.81  5227.75                     \n",
       "4  2014-01-01 - 2014-12-31  1830.85  3262.05                              \n",
       "5  2015-01-01 - 2015-12-31  1912.17                                       \n",
       "\n",
       "        72  \n",
       "0  8964.49  \n",
       "1           \n",
       "2           \n",
       "3           \n",
       "4           \n",
       "5           "
      ]
     },
     "execution_count": 240,
     "metadata": {},
     "output_type": "execute_result"
    }
   ],
   "source": [
    "df_cohort = df.groupby(['Origin Year', 'Trx_Year']) \\\n",
    "              .agg(Trx_amount=('Amount', 'sum')) \\\n",
    "              .reset_index(drop=False)\n",
    "df_cohort[\"period_since_aquisition\"]= (df_cohort[\"Trx_Year\"]-df_cohort[\"Origin Year\"]+1)*12\n",
    "df_cohort[\"Cum_Trx_amount\"] = df_cohort.groupby('Origin Year').Trx_amount.transform(np.cumsum)\n",
    "cohort_table = df_cohort.pivot_table(index=\"Origin Year\", columns=\"period_since_aquisition\", values=\"Cum_Trx_amount\").reset_index()\n",
    "cohort_table[\"Origin Year\"] = cohort_table[\"Origin Year\"].apply(lambda x: str(x)+\"-01-01 - \" + str(x)+\"-12-31\", )\n",
    "cohort_table.rename_axis(\"\", axis=1).fillna(\"\")"
   ]
  },
  {
   "cell_type": "markdown",
   "metadata": {},
   "source": [
    "## Step 5 - New Customers Cohort Analysis"
   ]
  },
  {
   "cell_type": "code",
   "execution_count": 273,
   "metadata": {},
   "outputs": [
    {
     "data": {
      "text/html": [
       "<div>\n",
       "<style scoped>\n",
       "    .dataframe tbody tr th:only-of-type {\n",
       "        vertical-align: middle;\n",
       "    }\n",
       "\n",
       "    .dataframe tbody tr th {\n",
       "        vertical-align: top;\n",
       "    }\n",
       "\n",
       "    .dataframe thead th {\n",
       "        text-align: right;\n",
       "    }\n",
       "</style>\n",
       "<table border=\"1\" class=\"dataframe\">\n",
       "  <thead>\n",
       "    <tr style=\"text-align: right;\">\n",
       "      <th></th>\n",
       "      <th>Origin Year</th>\n",
       "      <th>12</th>\n",
       "      <th>24</th>\n",
       "      <th>36</th>\n",
       "      <th>48</th>\n",
       "      <th>60</th>\n",
       "      <th>72</th>\n",
       "    </tr>\n",
       "  </thead>\n",
       "  <tbody>\n",
       "    <tr>\n",
       "      <th>0</th>\n",
       "      <td>2010-01-01 - 2010-12-31</td>\n",
       "      <td>2259.67</td>\n",
       "      <td>3614.78</td>\n",
       "      <td>5274.81</td>\n",
       "      <td>6632.37</td>\n",
       "      <td>7930.69</td>\n",
       "      <td>8964.49</td>\n",
       "    </tr>\n",
       "    <tr>\n",
       "      <th>1</th>\n",
       "      <td>2011-01-01 - 2011-12-31</td>\n",
       "      <td>2238.46</td>\n",
       "      <td>3757.9</td>\n",
       "      <td>5465.99</td>\n",
       "      <td>6703.11</td>\n",
       "      <td>7862.24</td>\n",
       "      <td></td>\n",
       "    </tr>\n",
       "    <tr>\n",
       "      <th>2</th>\n",
       "      <td>2012-01-01 - 2012-12-31</td>\n",
       "      <td>2181.35</td>\n",
       "      <td>3874.69</td>\n",
       "      <td>5226.86</td>\n",
       "      <td>6501.85</td>\n",
       "      <td></td>\n",
       "      <td></td>\n",
       "    </tr>\n",
       "    <tr>\n",
       "      <th>3</th>\n",
       "      <td>2013-01-01 - 2013-12-31</td>\n",
       "      <td>2179.85</td>\n",
       "      <td>3609.81</td>\n",
       "      <td>5227.75</td>\n",
       "      <td></td>\n",
       "      <td></td>\n",
       "      <td></td>\n",
       "    </tr>\n",
       "    <tr>\n",
       "      <th>4</th>\n",
       "      <td>2014-01-01 - 2014-12-31</td>\n",
       "      <td>1830.85</td>\n",
       "      <td>3262.05</td>\n",
       "      <td></td>\n",
       "      <td></td>\n",
       "      <td></td>\n",
       "      <td></td>\n",
       "    </tr>\n",
       "    <tr>\n",
       "      <th>5</th>\n",
       "      <td>2015-01-01 - 2015-12-31</td>\n",
       "      <td>1912.17</td>\n",
       "      <td></td>\n",
       "      <td></td>\n",
       "      <td></td>\n",
       "      <td></td>\n",
       "      <td></td>\n",
       "    </tr>\n",
       "  </tbody>\n",
       "</table>\n",
       "</div>"
      ],
      "text/plain": [
       "               Origin Year       12       24       36       48       60  \\\n",
       "0  2010-01-01 - 2010-12-31  2259.67  3614.78  5274.81  6632.37  7930.69   \n",
       "1  2011-01-01 - 2011-12-31  2238.46   3757.9  5465.99  6703.11  7862.24   \n",
       "2  2012-01-01 - 2012-12-31  2181.35  3874.69  5226.86  6501.85            \n",
       "3  2013-01-01 - 2013-12-31  2179.85  3609.81  5227.75                     \n",
       "4  2014-01-01 - 2014-12-31  1830.85  3262.05                              \n",
       "5  2015-01-01 - 2015-12-31  1912.17                                       \n",
       "\n",
       "        72  \n",
       "0  8964.49  \n",
       "1           \n",
       "2           \n",
       "3           \n",
       "4           \n",
       "5           "
      ]
     },
     "execution_count": 273,
     "metadata": {},
     "output_type": "execute_result"
    }
   ],
   "source": [
    "df_cohort = df.groupby(['Origin Year', 'Trx_Year']) \\\n",
    "              .agg(Trx_amount=('Amount', 'sum')) \\\n",
    "              .reset_index(drop=False)\n",
    "df_cohort[\"period_since_aquisition\"]= (df_cohort[\"Trx_Year\"]-df_cohort[\"Origin Year\"]+1)*12\n",
    "df_cohort[\"Cum_Trx_amount\"] = df_cohort.groupby('Origin Year').Trx_amount.transform(np.cumsum)\n",
    "cohort_table = df_cohort.pivot_table(index=\"Origin Year\", columns=\"period_since_aquisition\", values=\"Cum_Trx_amount\").reset_index()\n",
    "cohort_table[\"Origin Year\"] = cohort_table[\"Origin Year\"].apply(lambda x: str(x)+\"-01-01 - \" + str(x)+\"-12-31\", )\n",
    "cohort_table.rename_axis(\"\", axis=1).fillna(\"\")"
   ]
  },
  {
   "cell_type": "code",
   "execution_count": 312,
   "metadata": {},
   "outputs": [
    {
     "data": {
      "text/html": [
       "<div>\n",
       "<style scoped>\n",
       "    .dataframe tbody tr th:only-of-type {\n",
       "        vertical-align: middle;\n",
       "    }\n",
       "\n",
       "    .dataframe tbody tr th {\n",
       "        vertical-align: top;\n",
       "    }\n",
       "\n",
       "    .dataframe thead th {\n",
       "        text-align: right;\n",
       "    }\n",
       "</style>\n",
       "<table border=\"1\" class=\"dataframe\">\n",
       "  <thead>\n",
       "    <tr style=\"text-align: right;\">\n",
       "      <th></th>\n",
       "      <th>Origin Year</th>\n",
       "      <th>12</th>\n",
       "      <th>24</th>\n",
       "      <th>36</th>\n",
       "      <th>48</th>\n",
       "      <th>60</th>\n",
       "      <th>72</th>\n",
       "    </tr>\n",
       "  </thead>\n",
       "  <tbody>\n",
       "    <tr>\n",
       "      <th>0</th>\n",
       "      <td>2010-01-01 - 2010-12-31</td>\n",
       "      <td>172.0</td>\n",
       "      <td>172</td>\n",
       "      <td>172</td>\n",
       "      <td>172</td>\n",
       "      <td>172</td>\n",
       "      <td>172</td>\n",
       "    </tr>\n",
       "    <tr>\n",
       "      <th>1</th>\n",
       "      <td>2011-01-01 - 2011-12-31</td>\n",
       "      <td>170.0</td>\n",
       "      <td>170</td>\n",
       "      <td>170</td>\n",
       "      <td>170</td>\n",
       "      <td>170</td>\n",
       "      <td></td>\n",
       "    </tr>\n",
       "    <tr>\n",
       "      <th>2</th>\n",
       "      <td>2012-01-01 - 2012-12-31</td>\n",
       "      <td>163.0</td>\n",
       "      <td>163</td>\n",
       "      <td>163</td>\n",
       "      <td>163</td>\n",
       "      <td></td>\n",
       "      <td></td>\n",
       "    </tr>\n",
       "    <tr>\n",
       "      <th>3</th>\n",
       "      <td>2013-01-01 - 2013-12-31</td>\n",
       "      <td>180.0</td>\n",
       "      <td>180</td>\n",
       "      <td>180</td>\n",
       "      <td></td>\n",
       "      <td></td>\n",
       "      <td></td>\n",
       "    </tr>\n",
       "    <tr>\n",
       "      <th>4</th>\n",
       "      <td>2014-01-01 - 2014-12-31</td>\n",
       "      <td>155.0</td>\n",
       "      <td>155</td>\n",
       "      <td></td>\n",
       "      <td></td>\n",
       "      <td></td>\n",
       "      <td></td>\n",
       "    </tr>\n",
       "    <tr>\n",
       "      <th>5</th>\n",
       "      <td>2015-01-01 - 2015-12-31</td>\n",
       "      <td>160.0</td>\n",
       "      <td></td>\n",
       "      <td></td>\n",
       "      <td></td>\n",
       "      <td></td>\n",
       "      <td></td>\n",
       "    </tr>\n",
       "  </tbody>\n",
       "</table>\n",
       "</div>"
      ],
      "text/plain": [
       "               Origin Year     12   24   36   48   60   72\n",
       "0  2010-01-01 - 2010-12-31  172.0  172  172  172  172  172\n",
       "1  2011-01-01 - 2011-12-31  170.0  170  170  170  170     \n",
       "2  2012-01-01 - 2012-12-31  163.0  163  163  163          \n",
       "3  2013-01-01 - 2013-12-31  180.0  180  180               \n",
       "4  2014-01-01 - 2014-12-31  155.0  155                    \n",
       "5  2015-01-01 - 2015-12-31  160.0                         "
      ]
     },
     "execution_count": 312,
     "metadata": {},
     "output_type": "execute_result"
    }
   ],
   "source": [
    "a = df.groupby(['Origin Year', 'Trx_Year']) \\\n",
    "              .agg(Unique_customers=('CustomerID', 'nunique')) \\\n",
    "              .reset_index()\n",
    "a[\"x\"] = a[\"Unique_customers\"] * np.floor(a[\"Origin Year\"] / a[\"Trx_Year\"]).astype(\"int\")\n",
    "a[\"x\"] = a[\"x\"].astype(\"int\")\n",
    "a[\"Unique_customers\"] = a.groupby(['Origin Year']).x.transform(max)\n",
    "del a[\"x\"]\n",
    "a[\"period_since_aquisition\"]= (a[\"Trx_Year\"]-a[\"Origin Year\"]+1)*12\n",
    "a = a.pivot_table(index=\"Origin Year\", columns=\"period_since_aquisition\", values=\"Unique_customers\").reset_index()\n",
    "a[\"Origin Year\"] = a[\"Origin Year\"].apply(lambda x: str(x)+\"-01-01 - \" + str(x)+\"-12-31\", )\n",
    "a = a.rename_axis(\"\", axis=1).fillna(\"\")\n",
    "a"
   ]
  },
  {
   "cell_type": "code",
   "execution_count": 323,
   "metadata": {},
   "outputs": [
    {
     "data": {
      "text/html": [
       "<div>\n",
       "<style scoped>\n",
       "    .dataframe tbody tr th:only-of-type {\n",
       "        vertical-align: middle;\n",
       "    }\n",
       "\n",
       "    .dataframe tbody tr th {\n",
       "        vertical-align: top;\n",
       "    }\n",
       "\n",
       "    .dataframe thead th {\n",
       "        text-align: right;\n",
       "    }\n",
       "</style>\n",
       "<table border=\"1\" class=\"dataframe\">\n",
       "  <thead>\n",
       "    <tr style=\"text-align: right;\">\n",
       "      <th>period_since_aquisition</th>\n",
       "      <th>12</th>\n",
       "      <th>24</th>\n",
       "      <th>36</th>\n",
       "      <th>48</th>\n",
       "      <th>60</th>\n",
       "      <th>72</th>\n",
       "    </tr>\n",
       "    <tr>\n",
       "      <th>Origin Year</th>\n",
       "      <th></th>\n",
       "      <th></th>\n",
       "      <th></th>\n",
       "      <th></th>\n",
       "      <th></th>\n",
       "      <th></th>\n",
       "    </tr>\n",
       "  </thead>\n",
       "  <tbody>\n",
       "    <tr>\n",
       "      <th>2010-01-01 - 2010-12-31</th>\n",
       "      <td>13.137616</td>\n",
       "      <td>21.0162</td>\n",
       "      <td>30.6675</td>\n",
       "      <td>38.5603</td>\n",
       "      <td>46.1087</td>\n",
       "      <td>52.1191</td>\n",
       "    </tr>\n",
       "    <tr>\n",
       "      <th>2011-01-01 - 2011-12-31</th>\n",
       "      <td>13.167412</td>\n",
       "      <td>22.1053</td>\n",
       "      <td>32.1529</td>\n",
       "      <td>39.4301</td>\n",
       "      <td>46.2485</td>\n",
       "      <td></td>\n",
       "    </tr>\n",
       "    <tr>\n",
       "      <th>2012-01-01 - 2012-12-31</th>\n",
       "      <td>13.382515</td>\n",
       "      <td>23.7711</td>\n",
       "      <td>32.0666</td>\n",
       "      <td>39.8887</td>\n",
       "      <td></td>\n",
       "      <td></td>\n",
       "    </tr>\n",
       "    <tr>\n",
       "      <th>2013-01-01 - 2013-12-31</th>\n",
       "      <td>12.110278</td>\n",
       "      <td>20.0545</td>\n",
       "      <td>29.0431</td>\n",
       "      <td></td>\n",
       "      <td></td>\n",
       "      <td></td>\n",
       "    </tr>\n",
       "    <tr>\n",
       "      <th>2014-01-01 - 2014-12-31</th>\n",
       "      <td>11.811935</td>\n",
       "      <td>21.0455</td>\n",
       "      <td></td>\n",
       "      <td></td>\n",
       "      <td></td>\n",
       "      <td></td>\n",
       "    </tr>\n",
       "    <tr>\n",
       "      <th>2015-01-01 - 2015-12-31</th>\n",
       "      <td>11.951062</td>\n",
       "      <td></td>\n",
       "      <td></td>\n",
       "      <td></td>\n",
       "      <td></td>\n",
       "      <td></td>\n",
       "    </tr>\n",
       "  </tbody>\n",
       "</table>\n",
       "</div>"
      ],
      "text/plain": [
       "period_since_aquisition         12       24       36       48       60  \\\n",
       "Origin Year                                                              \n",
       "2010-01-01 - 2010-12-31  13.137616  21.0162  30.6675  38.5603  46.1087   \n",
       "2011-01-01 - 2011-12-31  13.167412  22.1053  32.1529  39.4301  46.2485   \n",
       "2012-01-01 - 2012-12-31  13.382515  23.7711  32.0666  39.8887            \n",
       "2013-01-01 - 2013-12-31  12.110278  20.0545  29.0431                     \n",
       "2014-01-01 - 2014-12-31  11.811935  21.0455                              \n",
       "2015-01-01 - 2015-12-31  11.951062                                       \n",
       "\n",
       "period_since_aquisition       72  \n",
       "Origin Year                       \n",
       "2010-01-01 - 2010-12-31  52.1191  \n",
       "2011-01-01 - 2011-12-31           \n",
       "2012-01-01 - 2012-12-31           \n",
       "2013-01-01 - 2013-12-31           \n",
       "2014-01-01 - 2014-12-31           \n",
       "2015-01-01 - 2015-12-31           "
      ]
     },
     "execution_count": 323,
     "metadata": {},
     "output_type": "execute_result"
    }
   ],
   "source": [
    "clv_table = ((cohort_table.set_index(\"Origin Year\"))/(a.set_index(\"Origin Year\"))).fillna(\"\")\n",
    "clv_table"
   ]
  },
  {
   "cell_type": "code",
   "execution_count": 340,
   "metadata": {},
   "outputs": [
    {
     "data": {
      "image/png": "[encoded data removed]",
      "text/plain": [
       "<Figure size 432x288 with 1 Axes>"
      ]
     },
     "metadata": {
      "needs_background": "light"
     },
     "output_type": "display_data"
    }
   ],
   "source": [
    "#Plotting historic CLV\n",
    "\n",
    "cohort1, = plt.plot(clv_table.iloc[0], marker=\"o\")\n",
    "cohort2, = plt.plot(clv_table.iloc[1 ,0:5], marker= \"o\")\n",
    "cohort3, = plt.plot(clv_table.iloc[2 ,0:4], marker= \"o\")\n",
    "cohort4, = plt.plot(clv_table.iloc[3 ,0:3], marker= \"o\")\n",
    "cohort5, = plt.plot(clv_table.iloc[4 ,0:2], marker= \"o\")\n",
    "cohort6, = plt.plot(clv_table.iloc[5 ,0:1], marker= \"o\")\n",
    "\n",
    "plt.title(\"Historic CLV \")\n",
    "plt.xlabel('Age')\n",
    "plt.ylabel('Historic CLV')\n",
    "\n",
    "plt.grid()\n",
    "plt.legend([cohort1, cohort2, cohort3, cohort4, cohort5, cohort6], clv_table.index,\n",
    "           loc='upper left', prop={'size': 7})\n",
    "\n",
    "plt.show()"
   ]
  },
  {
   "cell_type": "code",
   "execution_count": 343,
   "metadata": {},
   "outputs": [
    {
     "ename": "KeyError",
     "evalue": "\"None of ['Origin Year'] are in the columns\"",
     "output_type": "error",
     "traceback": [
      "\u001b[0;31m---------------------------------------------------------------------------\u001b[0m",
      "\u001b[0;31mKeyError\u001b[0m                                  Traceback (most recent call last)",
      "\u001b[0;32m<ipython-input-343-73c2dc10a59e>\u001b[0m in \u001b[0;36m<module>\u001b[0;34m\u001b[0m\n\u001b[1;32m      7\u001b[0m \u001b[0;34m\u001b[0m\u001b[0m\n\u001b[1;32m      8\u001b[0m \u001b[0;32mfor\u001b[0m \u001b[0mi\u001b[0m \u001b[0;32min\u001b[0m \u001b[0mrange\u001b[0m\u001b[0;34m(\u001b[0m\u001b[0mdf\u001b[0m\u001b[0;34m[\u001b[0m\u001b[0;34m'Origin Year'\u001b[0m\u001b[0;34m]\u001b[0m\u001b[0;34m.\u001b[0m\u001b[0mnunique\u001b[0m\u001b[0;34m(\u001b[0m\u001b[0;34m)\u001b[0m\u001b[0;34m)\u001b[0m\u001b[0;34m:\u001b[0m\u001b[0;34m\u001b[0m\u001b[0;34m\u001b[0m\u001b[0m\n\u001b[0;32m----> 9\u001b[0;31m     \u001b[0mtemp_array\u001b[0m \u001b[0;34m=\u001b[0m \u001b[0mnp\u001b[0m\u001b[0;34m.\u001b[0m\u001b[0marray\u001b[0m\u001b[0;34m(\u001b[0m\u001b[0mclv_table\u001b[0m\u001b[0;34m.\u001b[0m\u001b[0miloc\u001b[0m\u001b[0;34m[\u001b[0m\u001b[0mi\u001b[0m\u001b[0;34m]\u001b[0m\u001b[0;34m)\u001b[0m \u001b[0;34m*\u001b[0m \u001b[0mnp\u001b[0m\u001b[0;34m.\u001b[0m\u001b[0marray\u001b[0m\u001b[0;34m(\u001b[0m\u001b[0ma\u001b[0m\u001b[0;34m.\u001b[0m\u001b[0mset_index\u001b[0m\u001b[0;34m(\u001b[0m\u001b[0;34m\"Origin Year\"\u001b[0m\u001b[0;34m)\u001b[0m\u001b[0;34m.\u001b[0m\u001b[0miloc\u001b[0m\u001b[0;34m[\u001b[0m\u001b[0mi\u001b[0m\u001b[0;34m]\u001b[0m\u001b[0;34m)\u001b[0m\u001b[0;34m\u001b[0m\u001b[0;34m\u001b[0m\u001b[0m\n\u001b[0m\u001b[1;32m     10\u001b[0m     \u001b[0mtemp_sum\u001b[0m \u001b[0;34m=\u001b[0m \u001b[0mnp\u001b[0m\u001b[0;34m.\u001b[0m\u001b[0msum\u001b[0m\u001b[0;34m(\u001b[0m\u001b[0mtemp_array\u001b[0m\u001b[0;34m)\u001b[0m\u001b[0;34m\u001b[0m\u001b[0;34m\u001b[0m\u001b[0m\n\u001b[1;32m     11\u001b[0m     \u001b[0msingle_value\u001b[0m \u001b[0;34m=\u001b[0m \u001b[0mtemp_sum\u001b[0m \u001b[0;34m/\u001b[0m \u001b[0mnp\u001b[0m\u001b[0;34m.\u001b[0m\u001b[0msum\u001b[0m\u001b[0;34m(\u001b[0m\u001b[0mnp\u001b[0m\u001b[0;34m.\u001b[0m\u001b[0marray\u001b[0m\u001b[0;34m(\u001b[0m\u001b[0ma\u001b[0m\u001b[0;34m.\u001b[0m\u001b[0miloc\u001b[0m\u001b[0;34m[\u001b[0m\u001b[0mi\u001b[0m\u001b[0;34m]\u001b[0m\u001b[0;34m)\u001b[0m\u001b[0;34m)\u001b[0m\u001b[0;34m\u001b[0m\u001b[0;34m\u001b[0m\u001b[0m\n",
      "\u001b[0;32m~/opt/anaconda3/lib/python3.7/site-packages/pandas/core/frame.py\u001b[0m in \u001b[0;36mset_index\u001b[0;34m(self, keys, drop, append, inplace, verify_integrity)\u001b[0m\n\u001b[1;32m   4301\u001b[0m \u001b[0;34m\u001b[0m\u001b[0m\n\u001b[1;32m   4302\u001b[0m         \u001b[0;32mif\u001b[0m \u001b[0mmissing\u001b[0m\u001b[0;34m:\u001b[0m\u001b[0;34m\u001b[0m\u001b[0;34m\u001b[0m\u001b[0m\n\u001b[0;32m-> 4303\u001b[0;31m             \u001b[0;32mraise\u001b[0m \u001b[0mKeyError\u001b[0m\u001b[0;34m(\u001b[0m\u001b[0;34mf\"None of {missing} are in the columns\"\u001b[0m\u001b[0;34m)\u001b[0m\u001b[0;34m\u001b[0m\u001b[0;34m\u001b[0m\u001b[0m\n\u001b[0m\u001b[1;32m   4304\u001b[0m \u001b[0;34m\u001b[0m\u001b[0m\n\u001b[1;32m   4305\u001b[0m         \u001b[0;32mif\u001b[0m \u001b[0minplace\u001b[0m\u001b[0;34m:\u001b[0m\u001b[0;34m\u001b[0m\u001b[0;34m\u001b[0m\u001b[0m\n",
      "\u001b[0;31mKeyError\u001b[0m: \"None of ['Origin Year'] are in the columns\""
     ]
    }
   ],
   "source": [
    "#Calculating a volume-weighted average of the Historic CLV for each group at each Age\n",
    "\n",
    "a = a.transpose()\n",
    "clv_table = clv_table.transpose()\n",
    "\n",
    "final_ans = []\n",
    "\n",
    "for i in range(df['Origin Year'].nunique()):\n",
    "    temp_array = np.array(clv_table.iloc[i]) * np.array(a.set_index(\"Origin Year\").iloc[i])\n",
    "    temp_sum = np.sum(temp_array)\n",
    "    single_value = temp_sum / np.sum(np.array(a.iloc[i]))\n",
    "    final_ans.append(np.round(single_value,2))\n",
    "\n",
    "df_grpCLV = pd.DataFrame (final_ans, columns = [\"Historic CLV\"])\n",
    "Age = ['12','24','36','48','60','72']\n",
    "\n",
    "df_grpCLV[\"Age\"] = Age\n",
    "df_grpCLV = df_grpCLV.set_index('Age')\n",
    "df_grpCLV"
   ]
  },
  {
   "cell_type": "code",
   "execution_count": null,
   "metadata": {},
   "outputs": [],
   "source": []
  }
 ],
 "metadata": {
  "kernelspec": {
   "display_name": "Python 3",
   "language": "python",
   "name": "python3"
  },
  "language_info": {
   "codemirror_mode": {
    "name": "ipython",
    "version": 3
   },
   "file_extension": ".py",
   "mimetype": "text/x-python",
   "name": "python",
   "nbconvert_exporter": "python",
   "pygments_lexer": "ipython3",
   "version": "3.7.4"
  }
 },
 "nbformat": 4,
 "nbformat_minor": 2
}
